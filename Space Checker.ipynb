{
 "cells": [
  {
   "cell_type": "code",
   "execution_count": 1,
   "metadata": {},
   "outputs": [],
   "source": [
    "from astropy.io import fits\n",
    "import glob\n",
    "import matplotlib.pyplot as plt"
   ]
  },
  {
   "cell_type": "code",
   "execution_count": 2,
   "metadata": {},
   "outputs": [],
   "source": [
    "directory = 'rotate'\n",
    "file_list = glob.glob(directory+'/*.fits')"
   ]
  },
  {
   "cell_type": "code",
   "execution_count": 3,
   "metadata": {},
   "outputs": [
    {
     "name": "stdout",
     "output_type": "stream",
     "text": [
      "SIMPLE  =                    T / file does conform to FITS standard             BITPIX  =                  -32 / number of bits per data pixel                  NAXIS   =                    2 / number of data axes                            NAXIS1  =                 4088 / length of data axis 1                          NAXIS2  =                 4088 / length of data axis 2                          EXTEND  =                    T / FITS dataset may contain extensions            COMMENT   FITS (Flexible Image Transport System) format is defined in 'AstronomyCOMMENT   and Astrophysics', volume 376, page 359; bibcode: 2001A&A...376..359H GS_XMIN =                    1                                                  GS_YMIN = '1,GalSim image minimum y coordinate'                                 GS_WCS  = 'GSFitsWCS'                                                           CTYPE1  = 'RA---TAN-SIP'                                                        CTYPE2  = 'DEC--TAN-SIP'                                                        CRPIX1  =                2044.                                                  CRPIX2  =                2044.                                                  CD1_1   = 2.82061668534119E-05                                                  CD1_2   =  1.0956543488074E-05                                                  CD2_1   = 1.14887763173967E-05                                                  CD2_2   = -2.74505882748251E-05                                                 CUNIT1  = 'deg     '                                                            CUNIT2  = 'deg     '                                                            CRVAL1  =     71.2044203523001                                                  CRVAL2  =     -53.712812940825                                                  A_ORDER =                    4                                                  A_0_2   =      2.256679195E-12                                                  A_0_3   =     -2.865349278E-18                                                  A_0_4   =      8.769787254E-24                                                  A_1_1   =     -4.782523972E-11                                                  A_1_2   =      1.029634789E-20                                                  A_1_3   =     -8.859930699E-24                                                  A_2_0   =      8.179360942E-12                                                  A_2_1   =     -2.876944372E-18                                                  A_2_2   =      8.769038624E-24                                                  A_3_0   =     -2.890171174E-18                                                  A_3_1   =      1.305328092E-24                                                  A_4_0   =     -8.832562111E-24                                                  B_ORDER =                    4                                                  B_0_2   =     -7.123580763E-11                                                  B_0_3   =      -3.33652135E-18                                                  B_0_4   =      9.265745791E-24                                                  B_1_1   =      5.114121776E-12                                                  B_1_2   =     -2.971921508E-18                                                  B_1_3   =      1.675311777E-23                                                  B_2_0   =     -2.490605913E-11                                                  B_2_1   =      1.026848768E-20                                                  B_2_2   =       9.48182913E-24                                                  B_3_0   =      3.828031808E-18                                                  B_3_1   =     -8.545770297E-24                                                  B_4_0   =      8.853491116E-24                                                  EQUINOX =                2000.                                                  WCSAXES =                    2                                                  WCSNAME = 'wfiwcs_7.6.8_0.5'                                                    BZERO   =                    0                                                  BSCALE  =                    1                                                  TELESCOP= 'WFIRST  '                                                            INSTRUME= 'WFC3    '                                                            RA_TARG =                71.25                                                  DEC_TARG=                -53.6                                                  PA_OBSY =                 128.                                                  PA_FPA  =                 158.                                                  SCA_NUM =                    2                                                  ORIENTAT=     158.036686845481                                                  LONPOLE =                 180.                                                  EXTNAME = 'SCI     '                                                            EXTVER  =                    1                                                  DETECTOR= 'IR      '                                                            PROPOSID= 'HLS_SIT '                                                            LINENUM = 'None    '                                                            TARGNAME= 'HLS     '                                                            EXPTIME =               140.25                                                  ROOTNAME= 'akari_match'                                                         NGOODPIX=             16711743                                                  EXPNAME = 'GalSim Image'                                                        MEANDARK=                0.015                                                  PA_V3   =                 158.                                                  GAIN    =                  2.5                                                  CCDAMP  = 'ABCD    '                                                            CCDGAIN =                   1.                                                  CCDOFSAB=                  190                                                  CCDOFSCD=                  190                                                  ATODGNA =                 2.34                                                  ATODGNB =                 2.37                                                  ATODGNC =                 2.33                                                  ATODGND =                 2.36                                                  READNSEA=                 20.2                                                  READNSEB=                 19.7                                                  READNSEC=                 20.1                                                  READNSED=                 20.6                                                  RDNOISE =                  8.5                                                  IDCSCALE=                  0.1                                                  BUNIT   = 'ELECTRONS/S'                                                         PFLTFILE= 'iref$uc721145i_pfl.fits'                                             TIME    =                   1.                                                  END                                                                                                                                                                                                                                                                                                                                                                                                                                                                                                                                                                                                                                                                                                                                                                                                                                                                                                                                                                                                                                                                                                                                                                                                                                             \n"
     ]
    }
   ],
   "source": [
    "file_content = fits.open(file_list[0])\n",
    "print(file_content[0].header)\n",
    "file_content.close()"
   ]
  },
  {
   "cell_type": "code",
   "execution_count": 4,
   "metadata": {},
   "outputs": [
    {
     "data": {
      "text/plain": [
       "71.2044203523001"
      ]
     },
     "execution_count": 4,
     "metadata": {},
     "output_type": "execute_result"
    }
   ],
   "source": [
    "file_content[0].header['CRVAL1']"
   ]
  },
  {
   "cell_type": "code",
   "execution_count": 5,
   "metadata": {},
   "outputs": [],
   "source": [
    "RA_list = []\n",
    "DEC_list = []\n",
    "pairs = []\n",
    "\n",
    "for file in file_list:\n",
    "    file_information = fits.open(file)\n",
    "    RA_list.append(file_information[0].header['CRVAL1'])\n",
    "    DEC_list.append(file_information[0].header['CRVAL2'])\n",
    "    pairs.append([file_information[0].header['CRVAL1'],file_information[0].header['CRVAL2']])\n",
    "    file_information.close()"
   ]
  },
  {
   "cell_type": "code",
   "execution_count": 24,
   "metadata": {},
   "outputs": [
    {
     "data": {
      "text/plain": [
       "<matplotlib.lines.Line2D at 0x7aa6881169d0>"
      ]
     },
     "execution_count": 24,
     "metadata": {},
     "output_type": "execute_result"
    },
    {
     "data": {
      "image/png": "[encoded data removed]",
      "text/plain": [
       "<Figure size 432x288 with 1 Axes>"
      ]
     },
     "metadata": {
      "needs_background": "light"
     },
     "output_type": "display_data"
    }
   ],
   "source": [
    "plt.scatter(RA_list,DEC_list)\n",
    "plt.axhline(-53.65)\n",
    "plt.axhline(-53.53,color='r')\n",
    "plt.axhline(-53.77,color='r')\n",
    "plt.axvline(71.07)\n",
    "plt.axvline(71.19,color='r')\n",
    "plt.axvline(70.95,color='r')"
   ]
  },
  {
   "cell_type": "code",
   "execution_count": 25,
   "metadata": {
    "scrolled": true
   },
   "outputs": [
    {
     "name": "stdout",
     "output_type": "stream",
     "text": [
      "([71.0719929067302, -53.6480709236552], [71.1078106166122, -53.6796881628301])\n",
      "(73, 6)\n",
      "([71.0719929067302, -53.6480709236552], [70.9720669521214, -53.7319485130538])\n",
      "(73, 16)\n",
      "([71.0719929067302, -53.6480709236552], [71.1200832145579, -53.5885138869635])\n",
      "(73, 20)\n",
      "([71.0719929067302, -53.6480709236552], [71.1811948000455, -53.7085981760364])\n",
      "(73, 31)\n",
      "([71.0719929067302, -53.6480709236552], [71.0767429420168, -53.5464064754933])\n",
      "(73, 34)\n",
      "([71.0719929067302, -53.6480709236552], [71.1852565913102, -53.5321860386608])\n",
      "(73, 48)\n",
      "([71.0719929067302, -53.6480709236552], [71.0545961081337, -53.5969116918887])\n",
      "(73, 64)\n",
      "([71.0719929067302, -53.6480709236552], [71.1255351327385, -53.6895136024177])\n",
      "(73, 74)\n",
      "([71.0719929067302, -53.6480709236552], [71.1417459259987, -53.5558852812566])\n",
      "(73, 75)\n"
     ]
    }
   ],
   "source": [
    "for i in range(len(pairs)):\n",
    "    #count = 0\n",
    "    for j in range(len(pairs)):\n",
    "        if i != j:\n",
    "            if abs(pairs[i][0]-pairs[j][0]) < .12 and abs(pairs[i][1]-pairs[j][1]) < .12:\n",
    "                #print((i,j))\n",
    "                #count+=1\n",
    "                if i == 73:\n",
    "                    print((pairs[i],pairs[j]))\n",
    "                    print((i,j))\n",
    "    \n",
    "    #print((i,count))"
   ]
  },
  {
   "cell_type": "code",
   "execution_count": 14,
   "metadata": {},
   "outputs": [
    {
     "data": {
      "text/plain": [
       "[71.3952250438273, -53.2487330905522]"
      ]
     },
     "execution_count": 14,
     "metadata": {},
     "output_type": "execute_result"
    }
   ],
   "source": [
    "pairs[42]"
   ]
  },
  {
   "cell_type": "code",
   "execution_count": 26,
   "metadata": {},
   "outputs": [
    {
     "name": "stdout",
     "output_type": "stream",
     "text": [
      "rotate/akari_match_Y106_19_11.fits\n",
      "rotate/akari_match_Y106_17_11.fits\n",
      "rotate/akari_match_Y106_13_2.fits\n",
      "rotate/akari_match_Y106_15_2.fits\n",
      "rotate/akari_match_Y106_19_2.fits\n",
      "rotate/akari_match_Y106_17_2.fits\n",
      "rotate/akari_match_Y106_13_1.fits\n",
      "rotate/akari_match_Y106_11_1.fits\n",
      "rotate/akari_match_Y106_15_1.fits\n"
     ]
    }
   ],
   "source": [
    "#First Epoch\n",
    "print(file_list[6])\n",
    "print(file_list[31])\n",
    "print(file_list[74])\n",
    "#Second Epoch\n",
    "print(file_list[73])\n",
    "print(file_list[34])\n",
    "print(file_list[64])\n",
    "#Third Epoch\n",
    "print(file_list[75])\n",
    "print(file_list[20])\n",
    "print(file_list[48])"
   ]
  },
  {
   "cell_type": "code",
   "execution_count": null,
   "metadata": {},
   "outputs": [],
   "source": []
  }
 ],
 "metadata": {
  "kernelspec": {
   "display_name": "Python 3",
   "language": "python",
   "name": "python3"
  },
  "language_info": {
   "codemirror_mode": {
    "name": "ipython",
    "version": 3
   },
   "file_extension": ".py",
   "mimetype": "text/x-python",
   "name": "python",
   "nbconvert_exporter": "python",
   "pygments_lexer": "ipython3",
   "version": "3.7.7"
  }
 },
 "nbformat": 4,
 "nbformat_minor": 4
}
